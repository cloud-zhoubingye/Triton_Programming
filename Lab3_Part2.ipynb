{
  "cells": [
    {
      "cell_type": "code",
      "source": [
        "!git clone https://github.com/Deep-Learning-Profiling-Tools/triton-viz.git\n",
        "%cd /content/triton-viz\n",
        "!pwd\n",
        "!pip install -e .\n",
        "!pip install jaxtyping\n",
        "!sudo apt update\n",
        "!sudo apt install -y libcairo2-dev pkg-config\n",
        "!pip install pycairo\n",
        "!pip install matplotlib\n"
      ],
      "metadata": {
        "colab": {
          "base_uri": "https://localhost:8080/",
          "height": 1000
        },
        "id": "T3HCKsFiSkrI",
        "outputId": "5325a674-74c5-4d67-a323-8cbc7fe36d03"
      },
      "id": "T3HCKsFiSkrI",
      "execution_count": 98,
      "outputs": [
        {
          "output_type": "stream",
          "name": "stdout",
          "text": [
            "Cloning into 'triton-viz'...\n",
            "remote: Enumerating objects: 993, done.\u001b[K\n",
            "remote: Counting objects: 100% (737/737), done.\u001b[K\n",
            "remote: Compressing objects: 100% (358/358), done.\u001b[K\n",
            "remote: Total 993 (delta 571), reused 490 (delta 379), pack-reused 256 (from 2)\u001b[K\n",
            "Receiving objects: 100% (993/993), 365.28 KiB | 11.42 MiB/s, done.\n",
            "Resolving deltas: 100% (659/659), done.\n",
            "/content/triton-viz\n",
            "/content/triton-viz\n",
            "Obtaining file:///content/triton-viz\n",
            "  Installing build dependencies ... \u001b[?25l\u001b[?25hdone\n",
            "  Checking if build backend supports build_editable ... \u001b[?25l\u001b[?25hdone\n",
            "  Getting requirements to build editable ... \u001b[?25l\u001b[?25hdone\n",
            "  Preparing editable metadata (pyproject.toml) ... \u001b[?25l\u001b[?25hdone\n",
            "Collecting chalk-diagrams@ git+https://github.com/chalk-diagrams/chalk.git (from triton-viz==1.1.1)\n",
            "  Cloning https://github.com/chalk-diagrams/chalk.git to /tmp/pip-install-lx2qtocr/chalk-diagrams_5da3f4ae532345a39d290c15cb646b18\n",
            "  Running command git clone --filter=blob:none --quiet https://github.com/chalk-diagrams/chalk.git /tmp/pip-install-lx2qtocr/chalk-diagrams_5da3f4ae532345a39d290c15cb646b18\n",
            "  Resolved https://github.com/chalk-diagrams/chalk.git to commit 6899b958f11e96d4a22ceaab81f31f6a7c87d019\n",
            "  Installing build dependencies ... \u001b[?25l\u001b[?25hdone\n",
            "  Getting requirements to build wheel ... \u001b[?25l\u001b[?25hdone\n",
            "  Preparing metadata (pyproject.toml) ... \u001b[?25l\u001b[?25hdone\n",
            "Requirement already satisfied: setuptools in /usr/local/lib/python3.11/dist-packages (from triton-viz==1.1.1) (75.2.0)\n",
            "Requirement already satisfied: triton in /usr/local/lib/python3.11/dist-packages (from triton-viz==1.1.1) (3.2.0)\n",
            "Requirement already satisfied: gradio in /usr/local/lib/python3.11/dist-packages (from triton-viz==1.1.1) (5.27.0)\n",
            "Requirement already satisfied: pyarrow in /usr/local/lib/python3.11/dist-packages (from triton-viz==1.1.1) (18.1.0)\n",
            "Requirement already satisfied: pre-commit in /usr/local/lib/python3.11/dist-packages (from triton-viz==1.1.1) (4.2.0)\n",
            "Requirement already satisfied: pytest in /usr/local/lib/python3.11/dist-packages (from triton-viz==1.1.1) (8.3.5)\n",
            "Requirement already satisfied: toolz in /usr/local/lib/python3.11/dist-packages (from chalk-diagrams@ git+https://github.com/chalk-diagrams/chalk.git->triton-viz==1.1.1) (0.12.1)\n",
            "Requirement already satisfied: colour in /usr/local/lib/python3.11/dist-packages (from chalk-diagrams@ git+https://github.com/chalk-diagrams/chalk.git->triton-viz==1.1.1) (0.1.5)\n",
            "Requirement already satisfied: svgwrite in /usr/local/lib/python3.11/dist-packages (from chalk-diagrams@ git+https://github.com/chalk-diagrams/chalk.git->triton-viz==1.1.1) (1.4.3)\n",
            "Requirement already satisfied: Pillow in /usr/local/lib/python3.11/dist-packages (from chalk-diagrams@ git+https://github.com/chalk-diagrams/chalk.git->triton-viz==1.1.1) (11.1.0)\n",
            "Requirement already satisfied: loguru in /usr/local/lib/python3.11/dist-packages (from chalk-diagrams@ git+https://github.com/chalk-diagrams/chalk.git->triton-viz==1.1.1) (0.7.3)\n",
            "Requirement already satisfied: chalk-planar in /usr/local/lib/python3.11/dist-packages (from chalk-diagrams@ git+https://github.com/chalk-diagrams/chalk.git->triton-viz==1.1.1) (0.4)\n",
            "Requirement already satisfied: typing-extensions in /usr/local/lib/python3.11/dist-packages (from chalk-diagrams@ git+https://github.com/chalk-diagrams/chalk.git->triton-viz==1.1.1) (4.13.2)\n",
            "Requirement already satisfied: importlib-metadata in /usr/local/lib/python3.11/dist-packages (from chalk-diagrams@ git+https://github.com/chalk-diagrams/chalk.git->triton-viz==1.1.1) (8.6.1)\n",
            "Requirement already satisfied: aiofiles<25.0,>=22.0 in /usr/local/lib/python3.11/dist-packages (from gradio->triton-viz==1.1.1) (24.1.0)\n",
            "Requirement already satisfied: anyio<5.0,>=3.0 in /usr/local/lib/python3.11/dist-packages (from gradio->triton-viz==1.1.1) (4.9.0)\n",
            "Requirement already satisfied: fastapi<1.0,>=0.115.2 in /usr/local/lib/python3.11/dist-packages (from gradio->triton-viz==1.1.1) (0.115.12)\n",
            "Requirement already satisfied: ffmpy in /usr/local/lib/python3.11/dist-packages (from gradio->triton-viz==1.1.1) (0.5.0)\n",
            "Requirement already satisfied: gradio-client==1.9.0 in /usr/local/lib/python3.11/dist-packages (from gradio->triton-viz==1.1.1) (1.9.0)\n",
            "Requirement already satisfied: groovy~=0.1 in /usr/local/lib/python3.11/dist-packages (from gradio->triton-viz==1.1.1) (0.1.2)\n",
            "Requirement already satisfied: httpx>=0.24.1 in /usr/local/lib/python3.11/dist-packages (from gradio->triton-viz==1.1.1) (0.28.1)\n",
            "Requirement already satisfied: huggingface-hub>=0.28.1 in /usr/local/lib/python3.11/dist-packages (from gradio->triton-viz==1.1.1) (0.30.2)\n",
            "Requirement already satisfied: jinja2<4.0 in /usr/local/lib/python3.11/dist-packages (from gradio->triton-viz==1.1.1) (3.1.6)\n",
            "Requirement already satisfied: markupsafe<4.0,>=2.0 in /usr/local/lib/python3.11/dist-packages (from gradio->triton-viz==1.1.1) (3.0.2)\n",
            "Requirement already satisfied: numpy<3.0,>=1.0 in /usr/local/lib/python3.11/dist-packages (from gradio->triton-viz==1.1.1) (2.0.2)\n",
            "Requirement already satisfied: orjson~=3.0 in /usr/local/lib/python3.11/dist-packages (from gradio->triton-viz==1.1.1) (3.10.16)\n",
            "Requirement already satisfied: packaging in /usr/local/lib/python3.11/dist-packages (from gradio->triton-viz==1.1.1) (24.2)\n",
            "Requirement already satisfied: pandas<3.0,>=1.0 in /usr/local/lib/python3.11/dist-packages (from gradio->triton-viz==1.1.1) (2.2.2)\n",
            "Requirement already satisfied: pydantic<2.12,>=2.0 in /usr/local/lib/python3.11/dist-packages (from gradio->triton-viz==1.1.1) (2.11.3)\n",
            "Requirement already satisfied: pydub in /usr/local/lib/python3.11/dist-packages (from gradio->triton-viz==1.1.1) (0.25.1)\n",
            "Requirement already satisfied: python-multipart>=0.0.18 in /usr/local/lib/python3.11/dist-packages (from gradio->triton-viz==1.1.1) (0.0.20)\n",
            "Requirement already satisfied: pyyaml<7.0,>=5.0 in /usr/local/lib/python3.11/dist-packages (from gradio->triton-viz==1.1.1) (6.0.2)\n",
            "Requirement already satisfied: ruff>=0.9.3 in /usr/local/lib/python3.11/dist-packages (from gradio->triton-viz==1.1.1) (0.11.7)\n",
            "Requirement already satisfied: safehttpx<0.2.0,>=0.1.6 in /usr/local/lib/python3.11/dist-packages (from gradio->triton-viz==1.1.1) (0.1.6)\n",
            "Requirement already satisfied: semantic-version~=2.0 in /usr/local/lib/python3.11/dist-packages (from gradio->triton-viz==1.1.1) (2.10.0)\n",
            "Requirement already satisfied: starlette<1.0,>=0.40.0 in /usr/local/lib/python3.11/dist-packages (from gradio->triton-viz==1.1.1) (0.46.2)\n",
            "Requirement already satisfied: tomlkit<0.14.0,>=0.12.0 in /usr/local/lib/python3.11/dist-packages (from gradio->triton-viz==1.1.1) (0.13.2)\n",
            "Requirement already satisfied: typer<1.0,>=0.12 in /usr/local/lib/python3.11/dist-packages (from gradio->triton-viz==1.1.1) (0.15.2)\n",
            "Requirement already satisfied: uvicorn>=0.14.0 in /usr/local/lib/python3.11/dist-packages (from gradio->triton-viz==1.1.1) (0.34.2)\n",
            "Requirement already satisfied: fsspec in /usr/local/lib/python3.11/dist-packages (from gradio-client==1.9.0->gradio->triton-viz==1.1.1) (2025.3.2)\n",
            "Requirement already satisfied: websockets<16.0,>=10.0 in /usr/local/lib/python3.11/dist-packages (from gradio-client==1.9.0->gradio->triton-viz==1.1.1) (15.0.1)\n",
            "Requirement already satisfied: cfgv>=2.0.0 in /usr/local/lib/python3.11/dist-packages (from pre-commit->triton-viz==1.1.1) (3.4.0)\n",
            "Requirement already satisfied: identify>=1.0.0 in /usr/local/lib/python3.11/dist-packages (from pre-commit->triton-viz==1.1.1) (2.6.10)\n",
            "Requirement already satisfied: nodeenv>=0.11.1 in /usr/local/lib/python3.11/dist-packages (from pre-commit->triton-viz==1.1.1) (1.9.1)\n",
            "Requirement already satisfied: virtualenv>=20.10.0 in /usr/local/lib/python3.11/dist-packages (from pre-commit->triton-viz==1.1.1) (20.30.0)\n",
            "Requirement already satisfied: iniconfig in /usr/local/lib/python3.11/dist-packages (from pytest->triton-viz==1.1.1) (2.1.0)\n",
            "Requirement already satisfied: pluggy<2,>=1.5 in /usr/local/lib/python3.11/dist-packages (from pytest->triton-viz==1.1.1) (1.5.0)\n",
            "Requirement already satisfied: idna>=2.8 in /usr/local/lib/python3.11/dist-packages (from anyio<5.0,>=3.0->gradio->triton-viz==1.1.1) (3.10)\n",
            "Requirement already satisfied: sniffio>=1.1 in /usr/local/lib/python3.11/dist-packages (from anyio<5.0,>=3.0->gradio->triton-viz==1.1.1) (1.3.1)\n",
            "Requirement already satisfied: certifi in /usr/local/lib/python3.11/dist-packages (from httpx>=0.24.1->gradio->triton-viz==1.1.1) (2025.1.31)\n",
            "Requirement already satisfied: httpcore==1.* in /usr/local/lib/python3.11/dist-packages (from httpx>=0.24.1->gradio->triton-viz==1.1.1) (1.0.8)\n",
            "Requirement already satisfied: h11<0.15,>=0.13 in /usr/local/lib/python3.11/dist-packages (from httpcore==1.*->httpx>=0.24.1->gradio->triton-viz==1.1.1) (0.14.0)\n",
            "Requirement already satisfied: filelock in /usr/local/lib/python3.11/dist-packages (from huggingface-hub>=0.28.1->gradio->triton-viz==1.1.1) (3.18.0)\n",
            "Requirement already satisfied: requests in /usr/local/lib/python3.11/dist-packages (from huggingface-hub>=0.28.1->gradio->triton-viz==1.1.1) (2.32.3)\n",
            "Requirement already satisfied: tqdm>=4.42.1 in /usr/local/lib/python3.11/dist-packages (from huggingface-hub>=0.28.1->gradio->triton-viz==1.1.1) (4.67.1)\n",
            "Requirement already satisfied: python-dateutil>=2.8.2 in /usr/local/lib/python3.11/dist-packages (from pandas<3.0,>=1.0->gradio->triton-viz==1.1.1) (2.8.2)\n",
            "Requirement already satisfied: pytz>=2020.1 in /usr/local/lib/python3.11/dist-packages (from pandas<3.0,>=1.0->gradio->triton-viz==1.1.1) (2025.2)\n",
            "Requirement already satisfied: tzdata>=2022.7 in /usr/local/lib/python3.11/dist-packages (from pandas<3.0,>=1.0->gradio->triton-viz==1.1.1) (2025.2)\n",
            "Requirement already satisfied: annotated-types>=0.6.0 in /usr/local/lib/python3.11/dist-packages (from pydantic<2.12,>=2.0->gradio->triton-viz==1.1.1) (0.7.0)\n",
            "Requirement already satisfied: pydantic-core==2.33.1 in /usr/local/lib/python3.11/dist-packages (from pydantic<2.12,>=2.0->gradio->triton-viz==1.1.1) (2.33.1)\n",
            "Requirement already satisfied: typing-inspection>=0.4.0 in /usr/local/lib/python3.11/dist-packages (from pydantic<2.12,>=2.0->gradio->triton-viz==1.1.1) (0.4.0)\n",
            "Requirement already satisfied: click>=8.0.0 in /usr/local/lib/python3.11/dist-packages (from typer<1.0,>=0.12->gradio->triton-viz==1.1.1) (8.1.8)\n",
            "Requirement already satisfied: shellingham>=1.3.0 in /usr/local/lib/python3.11/dist-packages (from typer<1.0,>=0.12->gradio->triton-viz==1.1.1) (1.5.4)\n",
            "Requirement already satisfied: rich>=10.11.0 in /usr/local/lib/python3.11/dist-packages (from typer<1.0,>=0.12->gradio->triton-viz==1.1.1) (13.9.4)\n",
            "Requirement already satisfied: distlib<1,>=0.3.7 in /usr/local/lib/python3.11/dist-packages (from virtualenv>=20.10.0->pre-commit->triton-viz==1.1.1) (0.3.9)\n",
            "Requirement already satisfied: platformdirs<5,>=3.9.1 in /usr/local/lib/python3.11/dist-packages (from virtualenv>=20.10.0->pre-commit->triton-viz==1.1.1) (4.3.7)\n",
            "Requirement already satisfied: zipp>=3.20 in /usr/local/lib/python3.11/dist-packages (from importlib-metadata->chalk-diagrams@ git+https://github.com/chalk-diagrams/chalk.git->triton-viz==1.1.1) (3.21.0)\n",
            "Requirement already satisfied: six>=1.5 in /usr/local/lib/python3.11/dist-packages (from python-dateutil>=2.8.2->pandas<3.0,>=1.0->gradio->triton-viz==1.1.1) (1.17.0)\n",
            "Requirement already satisfied: markdown-it-py>=2.2.0 in /usr/local/lib/python3.11/dist-packages (from rich>=10.11.0->typer<1.0,>=0.12->gradio->triton-viz==1.1.1) (3.0.0)\n",
            "Requirement already satisfied: pygments<3.0.0,>=2.13.0 in /usr/local/lib/python3.11/dist-packages (from rich>=10.11.0->typer<1.0,>=0.12->gradio->triton-viz==1.1.1) (2.18.0)\n",
            "Requirement already satisfied: charset-normalizer<4,>=2 in /usr/local/lib/python3.11/dist-packages (from requests->huggingface-hub>=0.28.1->gradio->triton-viz==1.1.1) (3.4.1)\n",
            "Requirement already satisfied: urllib3<3,>=1.21.1 in /usr/local/lib/python3.11/dist-packages (from requests->huggingface-hub>=0.28.1->gradio->triton-viz==1.1.1) (2.3.0)\n",
            "Requirement already satisfied: mdurl~=0.1 in /usr/local/lib/python3.11/dist-packages (from markdown-it-py>=2.2.0->rich>=10.11.0->typer<1.0,>=0.12->gradio->triton-viz==1.1.1) (0.1.2)\n",
            "Building wheels for collected packages: triton-viz\n",
            "  Building editable for triton-viz (pyproject.toml) ... \u001b[?25l\u001b[?25hdone\n",
            "  Created wheel for triton-viz: filename=triton_viz-1.1.1-0.editable-py3-none-any.whl size=5460 sha256=575ecb023430e785a6bad64467e43345a09c2cff08e93f03f763d1d05f97b287\n",
            "  Stored in directory: /tmp/pip-ephem-wheel-cache-6rtqn2cc/wheels/3d/4e/e4/16d5c4d5f3be42f1712ae531bcbc72e20a87dd817b6271d539\n",
            "Successfully built triton-viz\n",
            "Installing collected packages: triton-viz\n",
            "  Attempting uninstall: triton-viz\n",
            "    Found existing installation: triton-viz 1.1.1\n",
            "    Uninstalling triton-viz-1.1.1:\n",
            "      Successfully uninstalled triton-viz-1.1.1\n",
            "Successfully installed triton-viz-1.1.1\n"
          ]
        },
        {
          "output_type": "display_data",
          "data": {
            "application/vnd.colab-display-data+json": {
              "pip_warning": {
                "packages": [
                  "triton_viz"
                ]
              },
              "id": "a0fd4100d7f341098e1ec8b37a486fff"
            }
          },
          "metadata": {}
        },
        {
          "output_type": "stream",
          "name": "stdout",
          "text": [
            "Requirement already satisfied: jaxtyping in /usr/local/lib/python3.11/dist-packages (0.3.2)\n",
            "Requirement already satisfied: wadler-lindig>=0.1.3 in /usr/local/lib/python3.11/dist-packages (from jaxtyping) (0.1.5)\n",
            "Hit:1 https://cloud.r-project.org/bin/linux/ubuntu jammy-cran40/ InRelease\n",
            "Hit:2 https://developer.download.nvidia.com/compute/cuda/repos/ubuntu2204/x86_64  InRelease\n",
            "Hit:3 http://archive.ubuntu.com/ubuntu jammy InRelease\n",
            "Hit:4 http://archive.ubuntu.com/ubuntu jammy-updates InRelease\n",
            "Hit:5 http://archive.ubuntu.com/ubuntu jammy-backports InRelease\n",
            "Hit:6 http://security.ubuntu.com/ubuntu jammy-security InRelease\n",
            "Hit:7 https://r2u.stat.illinois.edu/ubuntu jammy InRelease\n",
            "Hit:8 https://ppa.launchpadcontent.net/deadsnakes/ppa/ubuntu jammy InRelease\n",
            "Hit:9 https://ppa.launchpadcontent.net/graphics-drivers/ppa/ubuntu jammy InRelease\n",
            "Hit:10 https://ppa.launchpadcontent.net/ubuntugis/ppa/ubuntu jammy InRelease\n",
            "Reading package lists... Done\n",
            "Building dependency tree... Done\n",
            "Reading state information... Done\n",
            "35 packages can be upgraded. Run 'apt list --upgradable' to see them.\n",
            "\u001b[1;33mW: \u001b[0mSkipping acquire of configured file 'main/source/Sources' as repository 'https://r2u.stat.illinois.edu/ubuntu jammy InRelease' does not seem to provide it (sources.list entry misspelt?)\u001b[0m\n",
            "Reading package lists... Done\n",
            "Building dependency tree... Done\n",
            "Reading state information... Done\n",
            "libcairo2-dev is already the newest version (1.16.0-5ubuntu2).\n",
            "pkg-config is already the newest version (0.29.2-1ubuntu3).\n",
            "The following packages were automatically installed and are no longer required:\n",
            "  libbz2-dev libpkgconf3 libreadline-dev\n",
            "Use 'sudo apt autoremove' to remove them.\n",
            "0 upgraded, 0 newly installed, 0 to remove and 35 not upgraded.\n",
            "Requirement already satisfied: pycairo in /usr/local/lib/python3.11/dist-packages (1.28.0)\n",
            "Requirement already satisfied: matplotlib in /usr/local/lib/python3.11/dist-packages (3.10.0)\n",
            "Requirement already satisfied: contourpy>=1.0.1 in /usr/local/lib/python3.11/dist-packages (from matplotlib) (1.3.2)\n",
            "Requirement already satisfied: cycler>=0.10 in /usr/local/lib/python3.11/dist-packages (from matplotlib) (0.12.1)\n",
            "Requirement already satisfied: fonttools>=4.22.0 in /usr/local/lib/python3.11/dist-packages (from matplotlib) (4.57.0)\n",
            "Requirement already satisfied: kiwisolver>=1.3.1 in /usr/local/lib/python3.11/dist-packages (from matplotlib) (1.4.8)\n",
            "Requirement already satisfied: numpy>=1.23 in /usr/local/lib/python3.11/dist-packages (from matplotlib) (2.0.2)\n",
            "Requirement already satisfied: packaging>=20.0 in /usr/local/lib/python3.11/dist-packages (from matplotlib) (24.2)\n",
            "Requirement already satisfied: pillow>=8 in /usr/local/lib/python3.11/dist-packages (from matplotlib) (11.1.0)\n",
            "Requirement already satisfied: pyparsing>=2.3.1 in /usr/local/lib/python3.11/dist-packages (from matplotlib) (3.2.3)\n",
            "Requirement already satisfied: python-dateutil>=2.7 in /usr/local/lib/python3.11/dist-packages (from matplotlib) (2.8.2)\n",
            "Requirement already satisfied: six>=1.5 in /usr/local/lib/python3.11/dist-packages (from python-dateutil>=2.7->matplotlib) (1.17.0)\n"
          ]
        }
      ]
    },
    {
      "cell_type": "markdown",
      "id": "2e27b0a6",
      "metadata": {
        "id": "2e27b0a6"
      },
      "source": [
        "## Part 2: Matrix Multiplication in Triton(40%)\n",
        "\n",
        "In this part, you will write a very short high-performance FP16 matrix multiplication kernel.\n",
        "\n",
        "Problem 9 and 10 **do** need to run on GPU."
      ]
    },
    {
      "cell_type": "code",
      "execution_count": 99,
      "id": "a4a415a7",
      "metadata": {
        "id": "a4a415a7"
      },
      "outputs": [],
      "source": [
        "import torch\n",
        "import triton\n",
        "from torch import Tensor\n",
        "import triton.language as tl\n",
        "import jaxtyping\n",
        "from jaxtyping import Float32, Int32"
      ]
    },
    {
      "cell_type": "code",
      "execution_count": 100,
      "id": "87432d59",
      "metadata": {
        "id": "87432d59"
      },
      "outputs": [],
      "source": [
        "# @title Setup\n",
        "\n",
        "import triton_viz\n",
        "import inspect\n",
        "from triton_viz.interpreter import record_builder\n",
        "\n",
        "def test(puzzle, puzzle_spec, nelem={}, B={\"B0\": 32}, viz=True):\n",
        "    B = dict(B)\n",
        "    if \"N1\" in nelem and \"B1\" not in B:\n",
        "        B[\"B1\"] = 32\n",
        "    if \"N2\" in nelem and \"B2\" not in B:\n",
        "        B[\"B2\"] = 32\n",
        "\n",
        "    triton_viz.interpreter.record_builder.reset()\n",
        "    torch.manual_seed(0)\n",
        "    signature = inspect.signature(puzzle_spec)\n",
        "    args = {}\n",
        "    for n, p in signature.parameters.items():\n",
        "        print(p)\n",
        "        args[n + \"_ptr\"] = ([d.size for d in p.annotation.dims], p)\n",
        "    args[\"z_ptr\"] = ([d.size for d in signature.return_annotation.dims], None)\n",
        "\n",
        "    tt_args = []\n",
        "    for k, (v, t) in args.items():\n",
        "        tt_args.append(torch.rand(*v) - 0.5)\n",
        "        if t is not None and t.annotation.dtypes[0] == \"int32\":\n",
        "            tt_args[-1] = torch.randint(-100000, 100000, v)\n",
        "    grid = lambda meta: (triton.cdiv(nelem[\"N0\"], meta[\"B0\"]),\n",
        "                         triton.cdiv(nelem.get(\"N1\", 1), meta.get(\"B1\", 1)),\n",
        "                         triton.cdiv(nelem.get(\"N2\", 1), meta.get(\"B2\", 1)))\n",
        "\n",
        "    #for k, v in args.items():\n",
        "    #    print(k, v)\n",
        "    triton_viz.trace(puzzle)[grid](*tt_args, **B, **nelem)\n",
        "    z = tt_args[-1]\n",
        "    tt_args = tt_args[:-1]\n",
        "    z_ = puzzle_spec(*tt_args)\n",
        "    match = torch.allclose(z, z_, rtol=1e-3, atol=1e-3)\n",
        "    print(\"Results match:\",  match)\n",
        "    failures = False\n",
        "    if viz:\n",
        "        failures = triton_viz.launch()\n",
        "    if not match or failures:\n",
        "        print(\"Invalid Access:\", failures)\n",
        "        print(\"Yours:\", z)\n",
        "        print(\"Spec:\", z_)\n",
        "        print(torch.isclose(z, z_))\n",
        "        return\n"
      ]
    },
    {
      "cell_type": "markdown",
      "id": "9df5b743",
      "metadata": {
        "id": "9df5b743"
      },
      "source": [
        "## Question 9 (10 pts): Matrix Mult\n",
        "\n",
        "Now, let's implement a naive matmul in Triton.\n",
        "Because we frequently create 1d- or 2d-offets and -masks, let's put that functionality into utility functions. As long as these functions are triton.jit-ed, they can be used in the kernel.\n"
      ]
    },
    {
      "cell_type": "code",
      "execution_count": 101,
      "id": "489df5e4",
      "metadata": {
        "id": "489df5e4"
      },
      "outputs": [],
      "source": [
        "@triton.jit\n",
        "def get_1d_offest(size, n_prev_block):\n",
        "    return tl.arange(0, size) + n_prev_block * size\n",
        "\n",
        "@triton.jit\n",
        "def get_2d_offset(offs_0, offs_1, stride_0, stride_1=1):\n",
        "    return offs_0[:, None] * stride_0 + offs_1[None, :] * stride_1\n",
        "\n",
        "@triton.jit\n",
        "def get_1d_mask(offs, max):\n",
        "    return offs < max\n",
        "\n",
        "@triton.jit\n",
        "def get_2d_mask(offs_0, offs_1, max_0, max_1):\n",
        "    return (offs_0[:, None] < max_0) & (offs_1[None, :] < max_1)"
      ]
    },
    {
      "cell_type": "code",
      "execution_count": 102,
      "id": "2f220044",
      "metadata": {
        "id": "2f220044"
      },
      "outputs": [],
      "source": [
        "@triton.jit\n",
        "def naive_matmul_kernel(\n",
        "    a_ptr, b_ptr, c_ptr,\n",
        "    m, n, k,\n",
        "    stride_am, stride_ak,\n",
        "    stride_bk, stride_bn,\n",
        "    stride_cm, stride_cn,\n",
        "    BLOCK_SIZE_M: tl.constexpr, BLOCK_SIZE_N: tl.constexpr, BLOCK_SIZE_K: tl.constexpr\n",
        "):\n",
        "    pid_m, pid_n = tl.program_id(0), tl.program_id(1)\n",
        "\n",
        "    # YOUR CODE HERE\n",
        "    # get 1d offsets\n",
        "    rm = pid_m * BLOCK_SIZE_M + tl.arange(0, BLOCK_SIZE_M)\n",
        "    rn = pid_n * BLOCK_SIZE_N + tl.arange(0, BLOCK_SIZE_N)\n",
        "    rk = tl.arange(0, BLOCK_SIZE_K)\n",
        "\n",
        "    # YOUR CODE HERE\n",
        "    # relevant offsets of a, b\n",
        "    offs_a = a_ptr + rm[:, None] * stride_am + rk[None, :] * stride_ak\n",
        "    offs_b = b_ptr + rk[:, None] * stride_bk + rn[None, :] * stride_bn\n",
        "\n",
        "    # initialize and iteratively update accumulator\n",
        "    acc = tl.zeros((BLOCK_SIZE_M, BLOCK_SIZE_N), dtype=tl.float32)\n",
        "    for _ in range(0, k, BLOCK_SIZE_K):\n",
        "        a = tl.load(offs_a)\n",
        "        b = tl.load(offs_b)\n",
        "        acc += tl.dot(a, b, allow_tf32=False) # matmul in block\n",
        "        # YOUR CODE HERE\n",
        "        # increase offets, so next iteration loads next block\n",
        "        offs_a += BLOCK_SIZE_K * stride_ak\n",
        "        offs_b += BLOCK_SIZE_K * stride_bk\n",
        "\n",
        "    c = c_ptr + get_2d_offset(rm, rn, stride_cm, stride_cn)\n",
        "    mask = get_2d_mask(rm, rn, m, n)\n",
        "    tl.store(c, acc, mask=mask)"
      ]
    },
    {
      "cell_type": "code",
      "execution_count": 103,
      "id": "5bb19c6e",
      "metadata": {
        "id": "5bb19c6e"
      },
      "outputs": [],
      "source": [
        "def naive_matmul(a, b):\n",
        "    # Check constraints.\n",
        "    assert a.shape[1] == b.shape[0], \"Incompatible dimensions\"\n",
        "    assert a.is_contiguous(), \"Matrix A must be contiguous\"\n",
        "    M, K = a.shape\n",
        "    K, N = b.shape\n",
        "    # Allocates output.\n",
        "    c = torch.empty((M, N), device=a.device, dtype=torch.float16)\n",
        "    # 1D launch kernel where each block gets its own program.\n",
        "    BLOCK_SIZE_M = 32\n",
        "    BLOCK_SIZE_N = 32\n",
        "    BLOCK_SIZE_K = 32\n",
        "    grid = lambda META: (triton.cdiv(M, BLOCK_SIZE_M) , triton.cdiv(N, BLOCK_SIZE_N) )\n",
        "    naive_matmul_kernel[grid](\n",
        "        a, b, c,  #\n",
        "        M, N, K,  #\n",
        "        a.stride(0), a.stride(1),  #\n",
        "        b.stride(0), b.stride(1),  #\n",
        "        c.stride(0), c.stride(1),  #\n",
        "        BLOCK_SIZE_M,\n",
        "        BLOCK_SIZE_N,\n",
        "        BLOCK_SIZE_K,\n",
        "    )\n",
        "    return c"
      ]
    },
    {
      "cell_type": "code",
      "execution_count": 104,
      "id": "c04085d8",
      "metadata": {
        "id": "c04085d8",
        "colab": {
          "base_uri": "https://localhost:8080/"
        },
        "outputId": "e3e9ba38-a0b3-4879-9b1e-58ff50878f9c"
      },
      "outputs": [
        {
          "output_type": "stream",
          "name": "stdout",
          "text": [
            "✅ Triton and Torch match\n"
          ]
        }
      ],
      "source": [
        "torch.manual_seed(0)\n",
        "a = torch.randn((512, 512), device='cuda', dtype=torch.float16)\n",
        "b = torch.randn((512, 512), device='cuda', dtype=torch.float16)\n",
        "triton_output = naive_matmul(a, b)\n",
        "torch_output = torch.matmul(a, b)\n",
        "if torch.allclose(triton_output, torch_output, atol=5e-2, rtol=0):\n",
        "    print(\"✅ Triton and Torch match\")\n",
        "else:\n",
        "    print(\"❌ Triton and Torch differ\")"
      ]
    },
    {
      "cell_type": "markdown",
      "id": "f68ec065",
      "metadata": {
        "id": "f68ec065"
      },
      "source": [
        "## Question 10 (20 pts): Faster Matrix Mult\n",
        "\n",
        "Triton handles the order of memory access **within** blocks, but not **across** blocks. So this is a knob we can use to make our kernels faster.\n",
        "\n",
        "In fact, cleverly reordering blocks can increase L2-cache hit rate, which makes our kernels faster. This example is taken from the [triton docs](https://triton-lang.org/main/getting-started/tutorials/03-matrix-multiplication.html).\n",
        "\n",
        "Now, to make better use of the L2 cache, we want to reuse data that's was recently loaded, and is therefore likely still in the L2 cache. How? By reducing the number of _different_ data loads that a bunch of \"consecutive\" kernels need. By \"consecutive\" we mean kernels that are executed approximately at the same time.\n",
        "\n",
        "This picture (adapter from the [triton docs](https://triton-lang.org/main/getting-started/tutorials/03-matrix-multiplication.html)) shows how we can do that. If we order naively, the first row of the output matrix is computed \"consecutively\", which needs 90 different block reads (9 from matrix A, 81 from matrix B). If we use \"group ordering\", a 3x3 square of blocks of the output matrix is computed \"consecutively\", which needs 54 different block reads (27 from matrix A, 27 from matrix B)."
      ]
    },
    {
      "cell_type": "markdown",
      "id": "f83516ea",
      "metadata": {
        "id": "f83516ea"
      },
      "source": [
        "<img src='https://triton-lang.org/main/_images/grouped_vs_row_major_ordering.png'>"
      ]
    },
    {
      "cell_type": "markdown",
      "id": "9a15e114",
      "metadata": {
        "id": "9a15e114"
      },
      "source": [
        "The default ordering is shown (called \"row-major\"). Remember, we deal with blocks. We can't arrange how the individual cells are processed, only the blocks. In the picture, our output matrix C has 5x7 = 35 cells, but only cdiv(5,1) x cdiv(7,2) = 5x4 = 20 blocks.\n",
        "\n",
        "When perform grouped ordering, notice how the first 9 processed blocks are the 3x3 grid we want! We process 3 blocks in a column. Then advance a column, again process 3, advance, and so on. The orange lines show where advance. This operation is called \"swizzling\".\n",
        "\n",
        "By the way, you can of course change the number 3. It's called the group_size.\n",
        "\n",
        "Triton provide a triton.language.swizzle2d function.\n",
        "\n",
        "To really understand swizzle2d, try to implement your own swizzle2d function ,and quickly verifiy it works as expected. We'll then continue to use it in our faster matmul kernel."
      ]
    },
    {
      "cell_type": "code",
      "execution_count": 105,
      "id": "e7449952",
      "metadata": {
        "id": "e7449952"
      },
      "outputs": [],
      "source": [
        "@triton.jit\n",
        "def swizzle(x_ptr, z_ptr, group_size: tl.constexpr):\n",
        "    pid_m, pid_n = tl.program_id(0), tl.program_id(1)\n",
        "    num_pid_m, num_pid_n = tl.num_programs(0), tl.num_programs(1)\n",
        "\n",
        "    pid_m_, pid_n_ = tl.swizzle2d(pid_m, pid_n, num_pid_m, num_pid_n, group_size)  # tl.swizzle2d doesn't work when simulating on CPU\n",
        "\n",
        "    offs_m = get_1d_offest(1, n_prev_block=pid_m)\n",
        "    offs_n = get_1d_offest(1, n_prev_block=pid_n)\n",
        "\n",
        "    offs = get_2d_offset(offs_m, offs_n, stride_0=num_pid_n)\n",
        "    mask = get_2d_mask(offs_m, offs_n, max_0=num_pid_m, max_1=num_pid_n)\n",
        "\n",
        "    offs_sw_m = get_1d_offest(1, n_prev_block=pid_m_)\n",
        "    offs_sw_n = get_1d_offest(1, n_prev_block=pid_n_)\n",
        "\n",
        "    offs_sw = get_2d_offset(offs_sw_m, offs_sw_n, stride_0=num_pid_n)\n",
        "    mask_sw = get_2d_mask(offs_sw_m, offs_sw_n, max_0=num_pid_m, max_1=num_pid_n)\n",
        "\n",
        "    x = tl.load(x_ptr + offs, mask=mask)\n",
        "    tl.store(z_ptr + offs_sw, x, mask=mask_sw)"
      ]
    },
    {
      "cell_type": "code",
      "execution_count": 106,
      "id": "a9a97d71",
      "metadata": {
        "id": "a9a97d71"
      },
      "outputs": [],
      "source": [
        "@triton.jit\n",
        "def your_swizzle(x_ptr, z_ptr, group_size: tl.constexpr):\n",
        "    pid_m, pid_n = tl.program_id(0), tl.program_id(1)\n",
        "    num_pid_m, num_pid_n = tl.num_programs(0), tl.num_programs(1)\n",
        "\n",
        "\n",
        "    # YOUR CODE HERE\n",
        "    ######################\n",
        "    ij = pid_m * num_pid_n + pid_n\n",
        "    size_gj = group_size * num_pid_n\n",
        "    group_id = ij // size_gj\n",
        "    off_i = group_id * group_size\n",
        "    size_g_eff = tl.minimum(num_pid_m - off_i, group_size)\n",
        "    ij_in_group = ij % size_gj\n",
        "    pid_m_ = off_i + (ij_in_group % size_g_eff)\n",
        "    pid_n_ = ij_in_group // size_g_eff\n",
        "    ######################\n",
        "\n",
        "    offs_m = get_1d_offest(1, n_prev_block=pid_m)\n",
        "    offs_n = get_1d_offest(1, n_prev_block=pid_n)\n",
        "\n",
        "    offs = get_2d_offset(offs_m, offs_n, stride_0=num_pid_n)\n",
        "    mask = get_2d_mask(offs_m, offs_n, max_0=num_pid_m, max_1=num_pid_n )\n",
        "\n",
        "    offs_sw_m = get_1d_offest(1, n_prev_block=pid_m_)\n",
        "    offs_sw_n = get_1d_offest(1, n_prev_block=pid_n_)\n",
        "\n",
        "    offs_sw = get_2d_offset(offs_sw_m, offs_sw_n, stride_0=num_pid_n)\n",
        "    mask_sw = get_2d_mask(offs_sw_m, offs_sw_n, max_0=num_pid_m, max_1=num_pid_n)\n",
        "\n",
        "    x = tl.load(x_ptr + offs, mask=mask)\n",
        "    tl.store(z_ptr + offs_sw, x, mask=mask_sw)"
      ]
    },
    {
      "cell_type": "code",
      "execution_count": 107,
      "id": "e7be5c91",
      "metadata": {
        "id": "e7be5c91",
        "colab": {
          "base_uri": "https://localhost:8080/"
        },
        "outputId": "2e806598-15c8-4f38-98f0-d9f821597b51"
      },
      "outputs": [
        {
          "output_type": "stream",
          "name": "stdout",
          "text": [
            "tensor([[ 0,  3,  6,  9],\n",
            "        [ 1,  4,  7, 10],\n",
            "        [ 2,  5,  8, 11],\n",
            "        [12, 14, 16, 18],\n",
            "        [13, 15, 17, 19]], device='cuda:0')\n",
            "tensor([[ 0,  3,  6,  9],\n",
            "        [ 1,  4,  7, 10],\n",
            "        [ 2,  5,  8, 11],\n",
            "        [12, 14, 16, 18],\n",
            "        [13, 15, 17, 19]], device='cuda:0')\n",
            "✅ match\n"
          ]
        }
      ],
      "source": [
        "blocks_m, blocks_n = 5,4\n",
        "\n",
        "x = torch.arange(blocks_m*blocks_n, device='cuda').view(blocks_m,blocks_n)\n",
        "z1 = -torch.ones_like(x) # empty matrix, with -1 denoting empty\n",
        "z2 = -torch.ones_like(x) # empty matrix, with -1 denoting empty\n",
        "\n",
        "swizzle[(blocks_m, blocks_n)](x, z1, group_size=3)\n",
        "your_swizzle[(blocks_m,blocks_n)](x,z2, group_size=3)\n",
        "print(z1)\n",
        "print(z2)\n",
        "if torch.allclose(z1, z2, atol=0, rtol=0):\n",
        "    print(\"✅ match\")\n",
        "else:\n",
        "    print(\"❌ not match\")"
      ]
    },
    {
      "cell_type": "code",
      "execution_count": 108,
      "id": "998d8a79",
      "metadata": {
        "id": "998d8a79"
      },
      "outputs": [],
      "source": [
        "@triton.jit\n",
        "def grouped_matmul_kernel(\n",
        "    a_ptr, b_ptr, c_ptr,\n",
        "    m, n, k,\n",
        "    stride_am, stride_ak,\n",
        "    stride_bk, stride_bn,\n",
        "    stride_cm, stride_cn,\n",
        "    BLOCK_SIZE_M: tl.constexpr, BLOCK_SIZE_N: tl.constexpr, BLOCK_SIZE_K : tl.constexpr, group_size: tl.constexpr\n",
        "):\n",
        "    pid_m, pid_n = tl.program_id(0), tl.program_id(1)\n",
        "    num_pid_m, num_pid_n = tl.num_programs(0), tl.num_programs(1)\n",
        "    # determine location of block in grouped ordering - swizzle!\n",
        "    pid_m, pid_n = tl.swizzle2d(pid_m, pid_n, num_pid_m, num_pid_n, group_size)  # tl.swizzle2d doesn't work when simulating on CPU\n",
        "\n",
        "    # YOUR CODE HERE\n",
        "    # get 1d offsets\n",
        "    rm = pid_m * BLOCK_SIZE_M + tl.arange(0, BLOCK_SIZE_M)\n",
        "    rn = pid_n * BLOCK_SIZE_N + tl.arange(0, BLOCK_SIZE_N)\n",
        "    rk = tl.arange(0, BLOCK_SIZE_K)\n",
        "\n",
        "    # YOUR CODE HERE\n",
        "    # relevant offsets of a, b\n",
        "    offs_a = a_ptr + rm[:, None] * stride_am + rk[None, :] * stride_ak\n",
        "    offs_b = b_ptr + rk[:, None] * stride_bk + rn[None, :] * stride_bn\n",
        "\n",
        "    # initialize and iteratively update accumulator\n",
        "    acc = tl.zeros((BLOCK_SIZE_M, BLOCK_SIZE_N), dtype=tl.float32)\n",
        "\n",
        "    for _ in range(0, k, BLOCK_SIZE_K):\n",
        "        a = tl.load(offs_a)\n",
        "        b = tl.load(offs_b)\n",
        "        acc += tl.dot(a, b, allow_tf32=False) # block level matrix multiplication\n",
        "\n",
        "        # YOUR CODE HERE\n",
        "        # increase offets, so next iteration loads next chunks\n",
        "        offs_a += BLOCK_SIZE_K * stride_ak\n",
        "        offs_b += BLOCK_SIZE_K * stride_bk\n",
        "\n",
        "\n",
        "    c = c_ptr + get_2d_offset(rm, rn, stride_cm, stride_cn)\n",
        "    mask = get_2d_mask(rm, rn, m, n)\n",
        "    tl.store(c, acc, mask=mask)"
      ]
    },
    {
      "cell_type": "code",
      "execution_count": 109,
      "id": "402f2361",
      "metadata": {
        "id": "402f2361"
      },
      "outputs": [],
      "source": [
        "def grouped_matmul(a, b, group_size):\n",
        "    # Check constraints.\n",
        "    assert a.shape[1] == b.shape[0], \"Incompatible dimensions\"\n",
        "    assert a.is_contiguous(), \"Matrix A must be contiguous\"\n",
        "    M, K = a.shape\n",
        "    K, N = b.shape\n",
        "    # Allocates output.\n",
        "    c = torch.empty((M, N), device=a.device, dtype=torch.float16)\n",
        "    # 1D launch kernel where each block gets its own program.\n",
        "    BLOCK_SIZE_M = 64\n",
        "    BLOCK_SIZE_N = 64\n",
        "    BLOCK_SIZE_K = 64\n",
        "    grid = lambda META: (triton.cdiv(M, BLOCK_SIZE_M) ,triton.cdiv(N, BLOCK_SIZE_N) )\n",
        "    grouped_matmul_kernel[grid](\n",
        "        a, b, c,  #\n",
        "        M, N, K,  #\n",
        "        a.stride(0), a.stride(1),  #\n",
        "        b.stride(0), b.stride(1),  #\n",
        "        c.stride(0), c.stride(1),  #\n",
        "        BLOCK_SIZE_M,\n",
        "        BLOCK_SIZE_N,\n",
        "        BLOCK_SIZE_K,\n",
        "        group_size  #\n",
        "    )\n",
        "    return c"
      ]
    },
    {
      "cell_type": "code",
      "execution_count": 110,
      "id": "171cf133",
      "metadata": {
        "id": "171cf133",
        "colab": {
          "base_uri": "https://localhost:8080/"
        },
        "outputId": "3dea4458-2af0-4226-f2b1-e26e75b5c254"
      },
      "outputs": [
        {
          "output_type": "stream",
          "name": "stdout",
          "text": [
            "✅ Triton and Torch match\n"
          ]
        }
      ],
      "source": [
        "torch.manual_seed(0)\n",
        "a = torch.randn((512, 512), device='cuda', dtype=torch.float16)\n",
        "b = torch.randn((512, 512), device='cuda', dtype=torch.float16)\n",
        "triton_output = grouped_matmul(a, b, group_size=32)\n",
        "torch_output = torch.matmul(a, b)\n",
        "if torch.allclose(triton_output, torch_output, atol=5e-2, rtol=0):\n",
        "    print(\"✅ Triton and Torch match\")\n",
        "else:\n",
        "    print(\"❌ Triton and Torch differ\")"
      ]
    },
    {
      "cell_type": "markdown",
      "id": "ff423150",
      "metadata": {
        "vscode": {
          "languageId": "plaintext"
        },
        "id": "ff423150"
      },
      "source": [
        "##Benchmarking##"
      ]
    },
    {
      "cell_type": "markdown",
      "id": "50dd54f7",
      "metadata": {
        "vscode": {
          "languageId": "plaintext"
        },
        "id": "50dd54f7"
      },
      "source": [
        "We can now compare the performance of our kernel. Here we focus on square matrices, but feel free to arrange this script as you wish to benchmark any other matrix shape."
      ]
    },
    {
      "cell_type": "code",
      "execution_count": 111,
      "id": "c32262dd",
      "metadata": {
        "id": "c32262dd"
      },
      "outputs": [],
      "source": [
        "@triton.testing.perf_report(\n",
        "    triton.testing.Benchmark(\n",
        "        x_names=['square_matrix_size'],  # Argument names to use as an x-axis for the plot.\n",
        "        x_vals=[2**i for i in range(5, 12, 1)],  # Different possible values for `x_name`.\n",
        "        x_log=True,  # x axis is logarithmic.\n",
        "        line_arg='provider',  # Argument name whose value corresponds to a different line in the plot.\n",
        "        line_vals=['naive', 'grouped', 'torch'],  # Possible values for `line_arg`.\n",
        "        line_names=['Naive', 'Grouped', 'Torch'],  # Label name for the lines.\n",
        "        styles=[('blue', '-'), ('green', '-'), ('orange','-')],  # Line styles.\n",
        "        ylabel='GB/s',  # Label name for the y-axis.\n",
        "        plot_name='matmul-performance',  # Name for the plot. Used also as a file name for saving the plot.\n",
        "        args={},  # Values for function arguments not in `x_names` and `y_name`.\n",
        "    ))\n",
        "def benchmark(square_matrix_size, provider):\n",
        "    sz = square_matrix_size\n",
        "    a = torch.rand((sz, sz), device='cuda', dtype=torch.float32)\n",
        "    b = torch.rand((sz, sz), device='cuda', dtype=torch.float32)\n",
        "    quantiles = [0.5, 0.2, 0.8]\n",
        "    if provider == 'naive':   ms, min_ms, max_ms = triton.testing.do_bench(lambda: naive_matmul(a, b), quantiles=quantiles)\n",
        "    if provider == 'grouped': ms, min_ms, max_ms = triton.testing.do_bench(lambda: grouped_matmul(a, b, group_size=8), quantiles=quantiles)\n",
        "    if provider == 'torch':   ms, min_ms, max_ms = triton.testing.do_bench(lambda: torch.matmul(a,b), quantiles=quantiles)\n",
        "    gbps = lambda ms: 12 * sz / ms * 1e-6\n",
        "    return gbps(ms), gbps(max_ms), gbps(min_ms)"
      ]
    },
    {
      "cell_type": "code",
      "execution_count": 112,
      "id": "e9f4b738",
      "metadata": {
        "id": "e9f4b738",
        "colab": {
          "base_uri": "https://localhost:8080/",
          "height": 610
        },
        "outputId": "c283aac5-21dc-448f-9661-6251e4a2a7a6"
      },
      "outputs": [
        {
          "output_type": "display_data",
          "data": {
            "text/plain": [
              "<Figure size 640x480 with 1 Axes>"
            ],
            "image/png": "[encoded data removed]"
          },
          "metadata": {}
        },
        {
          "output_type": "stream",
          "name": "stdout",
          "text": [
            "matmul-performance:\n",
            "   square_matrix_size     Naive   Grouped     Torch\n",
            "0                32.0  0.044776  0.021818  0.044944\n",
            "1                64.0  0.120301  0.080944  0.100840\n",
            "2               128.0  0.183206  0.111369  0.159468\n",
            "3               256.0  0.166667  0.136947  0.124031\n",
            "4               512.0  0.063809  0.093796  0.110092\n",
            "5              1024.0  0.014701  0.025257  0.031910\n",
            "6              2048.0  0.002781  0.005751  0.006430\n"
          ]
        }
      ],
      "source": [
        "benchmark.run(print_data=True, show_plots=True)"
      ]
    }
  ],
  "metadata": {
    "kernelspec": {
      "display_name": "Python 3",
      "name": "python3"
    },
    "language_info": {
      "codemirror_mode": {
        "name": "ipython",
        "version": 3
      },
      "file_extension": ".py",
      "mimetype": "text/x-python",
      "name": "python",
      "nbconvert_exporter": "python",
      "pygments_lexer": "ipython3",
      "version": "3.10.16"
    },
    "colab": {
      "provenance": [],
      "gpuType": "T4"
    },
    "accelerator": "GPU"
  },
  "nbformat": 4,
  "nbformat_minor": 5
}